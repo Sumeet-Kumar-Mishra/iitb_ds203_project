{
 "cells": [
  {
   "cell_type": "code",
   "execution_count": 1,
   "metadata": {
    "id": "SnBeijr9R4YO"
   },
   "outputs": [],
   "source": [
    "import numpy as np\n",
    "import pandas as pd\n",
    "import matplotlib.pyplot as plt\n",
    "import matplotlib.image as mpimg\n",
    "from skimage.transform import rescale, resize"
   ]
  },
  {
   "cell_type": "code",
   "execution_count": 2,
   "metadata": {
    "id": "71AAUqi4R4Yj"
   },
   "outputs": [],
   "source": [
    "df = pd.read_csv(\"USpreprocessed.csv\")"
   ]
  },
  {
   "cell_type": "code",
   "execution_count": 3,
   "metadata": {
    "id": "ZnV1TZg4R4Yl"
   },
   "outputs": [],
   "source": [
    "df.dropna(inplace=True)"
   ]
  },
  {
   "cell_type": "code",
   "execution_count": 4,
   "metadata": {
    "colab": {
     "base_uri": "https://localhost:8080/",
     "height": 462
    },
    "id": "w-rvoo0KR4Yo",
    "outputId": "e81d6605-76fd-4331-d904-4271ec512ccb"
   },
   "outputs": [
    {
     "data": {
      "text/html": [
       "<div>\n",
       "<style scoped>\n",
       "    .dataframe tbody tr th:only-of-type {\n",
       "        vertical-align: middle;\n",
       "    }\n",
       "\n",
       "    .dataframe tbody tr th {\n",
       "        vertical-align: top;\n",
       "    }\n",
       "\n",
       "    .dataframe thead th {\n",
       "        text-align: right;\n",
       "    }\n",
       "</style>\n",
       "<table border=\"1\" class=\"dataframe\">\n",
       "  <thead>\n",
       "    <tr style=\"text-align: right;\">\n",
       "      <th></th>\n",
       "      <th>video_id</th>\n",
       "      <th>title</th>\n",
       "      <th>channel_title</th>\n",
       "      <th>category_id</th>\n",
       "      <th>views</th>\n",
       "      <th>likes</th>\n",
       "      <th>dislikes</th>\n",
       "      <th>comment_count</th>\n",
       "      <th>thumbnail_link</th>\n",
       "      <th>comments_disabled</th>\n",
       "      <th>ratings_disabled</th>\n",
       "      <th>video_error_or_removed</th>\n",
       "      <th>description</th>\n",
       "      <th>trend_date</th>\n",
       "      <th>trend_month</th>\n",
       "      <th>trend_year</th>\n",
       "      <th>pub_date</th>\n",
       "      <th>pub_month</th>\n",
       "      <th>pub_year</th>\n",
       "      <th>pub_hour</th>\n",
       "    </tr>\n",
       "  </thead>\n",
       "  <tbody>\n",
       "    <tr>\n",
       "      <th>0</th>\n",
       "      <td>2kyS6SvSYSE</td>\n",
       "      <td>want talk marriag</td>\n",
       "      <td>CaseyNeistat</td>\n",
       "      <td>22</td>\n",
       "      <td>748374</td>\n",
       "      <td>57527</td>\n",
       "      <td>2966</td>\n",
       "      <td>15954</td>\n",
       "      <td>https://i.ytimg.com/vi/2kyS6SvSYSE/default.jpg</td>\n",
       "      <td>False</td>\n",
       "      <td>False</td>\n",
       "      <td>False</td>\n",
       "      <td>shantel channel httpswwwyoutubecomshantellmart...</td>\n",
       "      <td>11</td>\n",
       "      <td>14</td>\n",
       "      <td>17</td>\n",
       "      <td>13</td>\n",
       "      <td>11</td>\n",
       "      <td>17</td>\n",
       "      <td>17</td>\n",
       "    </tr>\n",
       "    <tr>\n",
       "      <th>1</th>\n",
       "      <td>1ZAPwfrtAFY</td>\n",
       "      <td>trump presid last week tonight john oliv hbo</td>\n",
       "      <td>LastWeekTonight</td>\n",
       "      <td>24</td>\n",
       "      <td>2418783</td>\n",
       "      <td>97185</td>\n",
       "      <td>6146</td>\n",
       "      <td>12703</td>\n",
       "      <td>https://i.ytimg.com/vi/1ZAPwfrtAFY/default.jpg</td>\n",
       "      <td>False</td>\n",
       "      <td>False</td>\n",
       "      <td>False</td>\n",
       "      <td>one year presidenti elect john oliv discuss we...</td>\n",
       "      <td>11</td>\n",
       "      <td>14</td>\n",
       "      <td>17</td>\n",
       "      <td>13</td>\n",
       "      <td>11</td>\n",
       "      <td>17</td>\n",
       "      <td>7</td>\n",
       "    </tr>\n",
       "    <tr>\n",
       "      <th>2</th>\n",
       "      <td>5qpjK5DgCt4</td>\n",
       "      <td>racist superman rudi mancuso king bach lele pon</td>\n",
       "      <td>Rudy Mancuso</td>\n",
       "      <td>23</td>\n",
       "      <td>3191434</td>\n",
       "      <td>146033</td>\n",
       "      <td>5339</td>\n",
       "      <td>8181</td>\n",
       "      <td>https://i.ytimg.com/vi/5qpjK5DgCt4/default.jpg</td>\n",
       "      <td>False</td>\n",
       "      <td>False</td>\n",
       "      <td>False</td>\n",
       "      <td>watch previou video ▶ nnsubscrib ► httpswwwyou...</td>\n",
       "      <td>11</td>\n",
       "      <td>14</td>\n",
       "      <td>17</td>\n",
       "      <td>12</td>\n",
       "      <td>11</td>\n",
       "      <td>17</td>\n",
       "      <td>19</td>\n",
       "    </tr>\n",
       "    <tr>\n",
       "      <th>3</th>\n",
       "      <td>puqaWrEC7tY</td>\n",
       "      <td>nickelback lyric real fake</td>\n",
       "      <td>Good Mythical Morning</td>\n",
       "      <td>24</td>\n",
       "      <td>343168</td>\n",
       "      <td>10172</td>\n",
       "      <td>666</td>\n",
       "      <td>2146</td>\n",
       "      <td>https://i.ytimg.com/vi/puqaWrEC7tY/default.jpg</td>\n",
       "      <td>False</td>\n",
       "      <td>False</td>\n",
       "      <td>False</td>\n",
       "      <td>today find link nickelback amateur secret nick...</td>\n",
       "      <td>11</td>\n",
       "      <td>14</td>\n",
       "      <td>17</td>\n",
       "      <td>13</td>\n",
       "      <td>11</td>\n",
       "      <td>17</td>\n",
       "      <td>11</td>\n",
       "    </tr>\n",
       "    <tr>\n",
       "      <th>4</th>\n",
       "      <td>d380meD0W0M</td>\n",
       "      <td>dare go bald</td>\n",
       "      <td>nigahiga</td>\n",
       "      <td>24</td>\n",
       "      <td>2095731</td>\n",
       "      <td>132235</td>\n",
       "      <td>1989</td>\n",
       "      <td>17518</td>\n",
       "      <td>https://i.ytimg.com/vi/d380meD0W0M/default.jpg</td>\n",
       "      <td>False</td>\n",
       "      <td>False</td>\n",
       "      <td>False</td>\n",
       "      <td>know sinc show back might best episod yetnleav...</td>\n",
       "      <td>11</td>\n",
       "      <td>14</td>\n",
       "      <td>17</td>\n",
       "      <td>12</td>\n",
       "      <td>11</td>\n",
       "      <td>17</td>\n",
       "      <td>18</td>\n",
       "    </tr>\n",
       "  </tbody>\n",
       "</table>\n",
       "</div>"
      ],
      "text/plain": [
       "      video_id                                            title  \\\n",
       "0  2kyS6SvSYSE                                want talk marriag   \n",
       "1  1ZAPwfrtAFY     trump presid last week tonight john oliv hbo   \n",
       "2  5qpjK5DgCt4  racist superman rudi mancuso king bach lele pon   \n",
       "3  puqaWrEC7tY                       nickelback lyric real fake   \n",
       "4  d380meD0W0M                                     dare go bald   \n",
       "\n",
       "           channel_title  category_id    views   likes  dislikes  \\\n",
       "0           CaseyNeistat           22   748374   57527      2966   \n",
       "1        LastWeekTonight           24  2418783   97185      6146   \n",
       "2           Rudy Mancuso           23  3191434  146033      5339   \n",
       "3  Good Mythical Morning           24   343168   10172       666   \n",
       "4               nigahiga           24  2095731  132235      1989   \n",
       "\n",
       "   comment_count                                  thumbnail_link  \\\n",
       "0          15954  https://i.ytimg.com/vi/2kyS6SvSYSE/default.jpg   \n",
       "1          12703  https://i.ytimg.com/vi/1ZAPwfrtAFY/default.jpg   \n",
       "2           8181  https://i.ytimg.com/vi/5qpjK5DgCt4/default.jpg   \n",
       "3           2146  https://i.ytimg.com/vi/puqaWrEC7tY/default.jpg   \n",
       "4          17518  https://i.ytimg.com/vi/d380meD0W0M/default.jpg   \n",
       "\n",
       "   comments_disabled  ratings_disabled  video_error_or_removed  \\\n",
       "0              False             False                   False   \n",
       "1              False             False                   False   \n",
       "2              False             False                   False   \n",
       "3              False             False                   False   \n",
       "4              False             False                   False   \n",
       "\n",
       "                                         description  trend_date  trend_month  \\\n",
       "0  shantel channel httpswwwyoutubecomshantellmart...          11           14   \n",
       "1  one year presidenti elect john oliv discuss we...          11           14   \n",
       "2  watch previou video ▶ nnsubscrib ► httpswwwyou...          11           14   \n",
       "3  today find link nickelback amateur secret nick...          11           14   \n",
       "4  know sinc show back might best episod yetnleav...          11           14   \n",
       "\n",
       "   trend_year  pub_date  pub_month  pub_year  pub_hour  \n",
       "0          17        13         11        17        17  \n",
       "1          17        13         11        17         7  \n",
       "2          17        12         11        17        19  \n",
       "3          17        13         11        17        11  \n",
       "4          17        12         11        17        18  "
      ]
     },
     "execution_count": 4,
     "metadata": {},
     "output_type": "execute_result"
    }
   ],
   "source": [
    "df.head()"
   ]
  },
  {
   "cell_type": "code",
   "execution_count": 5,
   "metadata": {
    "id": "axCS93TQR4Yu"
   },
   "outputs": [],
   "source": [
    "df.drop_duplicates(\"video_id\", keep=\"last\", inplace=True,ignore_index=True)\n",
    "df.to_csv('USduplicates.csv')"
   ]
  },
  {
   "cell_type": "code",
   "execution_count": 6,
   "metadata": {
    "colab": {
     "base_uri": "https://localhost:8080/"
    },
    "id": "7rnc10LJR4Y3",
    "outputId": "a69b8467-1a29-442e-c910-3d309d4fc35b"
   },
   "outputs": [
    {
     "data": {
      "text/plain": [
       "(5786, 20)"
      ]
     },
     "execution_count": 6,
     "metadata": {},
     "output_type": "execute_result"
    }
   ],
   "source": [
    "df.drop(\"thumbnail_link\", axis=1, inplace=True)\n",
    "df_stat = pd.read_csv('image_data/USpics/status.csv')\n",
    "df['image_status'] = df_stat['0']\n",
    "df['image_status'] = df['image_status'].astype(bool)\n",
    "\n",
    "\n",
    "df['file_path'] = np.nan\n",
    "df['file_path'] = df['file_path'].astype(str)\n",
    "\n",
    "for i in range(df.shape[0]):\n",
    "    if df.iloc[i]['image_status'] == True:\n",
    "        df.at[i,'file_path'] = \"image_data/USpics/image-{}.jpg\".format(i)\n",
    "\n",
    "df.drop(df[df['image_status']==False].index,inplace=True)\n",
    "df.drop(columns=['image_status'],inplace=True)\n",
    "\n",
    "df.shape\n"
   ]
  },
  {
   "cell_type": "code",
   "execution_count": 7,
   "metadata": {},
   "outputs": [
    {
     "data": {
      "text/plain": [
       "5786"
      ]
     },
     "execution_count": 7,
     "metadata": {},
     "output_type": "execute_result"
    }
   ],
   "source": [
    "import os\n",
    "list_of_images = []\n",
    "for file_path in df['file_path']:\n",
    "    img = mpimg.imread(file_path)\n",
    "    img = np.transpose(img,(2,0,1))\n",
    "    list_of_images.append(img)\n",
    "\n",
    "\n",
    "df.drop(columns=['file_path'],inplace=True)\n",
    "len(list_of_images)"
   ]
  },
  {
   "cell_type": "code",
   "execution_count": 9,
   "metadata": {},
   "outputs": [],
   "source": [
    "for i in range(len(list_of_images)):\n",
    "    list_of_images[i] = (list_of_images[i]-128)/256"
   ]
  },
  {
   "cell_type": "code",
   "execution_count": 10,
   "metadata": {
    "id": "_RpUgRisR4Y5"
   },
   "outputs": [],
   "source": [
    "df.drop([\"video_id\"], axis=1, inplace=True)"
   ]
  },
  {
   "cell_type": "code",
   "execution_count": 11,
   "metadata": {
    "id": "CyABavDYR4Y7"
   },
   "outputs": [],
   "source": [
    "df_x = df.drop(\"category_id\", axis=1)\n",
    "df_y = pd.get_dummies(df[\"category_id\"], prefix=\"cat\")"
   ]
  },
  {
   "cell_type": "code",
   "execution_count": 12,
   "metadata": {
    "id": "k7N6NYh2R4Y-"
   },
   "outputs": [],
   "source": [
    "#tokenize this\n",
    "df_x[\"text\"]=df_x[\"title\"]+\" \"+df_x[\"channel_title\"]+\" \"+df_x[\"description\"]"
   ]
  },
  {
   "cell_type": "code",
   "execution_count": 13,
   "metadata": {
    "id": "5bG8pRPkR4ZA"
   },
   "outputs": [],
   "source": [
    "df_x.drop([\"title\", \"channel_title\", \"description\"], axis=1, inplace=True)"
   ]
  },
  {
   "cell_type": "code",
   "execution_count": 14,
   "metadata": {
    "id": "O9Ro7M5wR4ZC"
   },
   "outputs": [],
   "source": [
    "from sklearn.feature_extraction.text import TfidfVectorizer\n",
    "vectorizer=TfidfVectorizer(ngram_range=(1,2), max_df=0.5, max_features=10000)"
   ]
  },
  {
   "cell_type": "code",
   "execution_count": 15,
   "metadata": {
    "id": "gL1MWjSfR4ZC"
   },
   "outputs": [],
   "source": [
    "vectorized_text = vectorizer.fit_transform(df_x[\"text\"])"
   ]
  },
  {
   "cell_type": "code",
   "execution_count": 16,
   "metadata": {
    "colab": {
     "base_uri": "https://localhost:8080/"
    },
    "id": "jOhZst88R4ZE",
    "outputId": "bb1212c1-5709-4d17-e2e7-8a5da6e20dc8"
   },
   "outputs": [
    {
     "data": {
      "text/plain": [
       "(5786, 10000)"
      ]
     },
     "execution_count": 16,
     "metadata": {},
     "output_type": "execute_result"
    }
   ],
   "source": [
    "vectorized_text.shape"
   ]
  },
  {
   "cell_type": "code",
   "execution_count": 17,
   "metadata": {
    "id": "O14JAWQhR4ZF"
   },
   "outputs": [],
   "source": [
    "from sklearn.decomposition import PCA\n",
    "pca=PCA(n_components=1000)"
   ]
  },
  {
   "cell_type": "code",
   "execution_count": 18,
   "metadata": {
    "id": "YDVs-W6pR4ZG"
   },
   "outputs": [],
   "source": [
    "vec_text_pca = pca.fit_transform(vectorized_text.todense())"
   ]
  },
  {
   "cell_type": "code",
   "execution_count": 19,
   "metadata": {
    "colab": {
     "base_uri": "https://localhost:8080/"
    },
    "id": "lSm5I1iYR4ZH",
    "outputId": "a8bbe96e-c449-42b3-99b8-d275beabcf0e"
   },
   "outputs": [
    {
     "data": {
      "text/plain": [
       "0.740544736943099"
      ]
     },
     "execution_count": 19,
     "metadata": {},
     "output_type": "execute_result"
    }
   ],
   "source": [
    "pca.explained_variance_ratio_.sum()"
   ]
  },
  {
   "cell_type": "code",
   "execution_count": 20,
   "metadata": {
    "id": "IW6Zp8GQUSBD"
   },
   "outputs": [],
   "source": [
    "df_x.drop(\"text\", axis=1, inplace=True)"
   ]
  },
  {
   "cell_type": "code",
   "execution_count": 21,
   "metadata": {
    "colab": {
     "base_uri": "https://localhost:8080/"
    },
    "id": "xROICljJUsMx",
    "outputId": "c176afa3-9615-41e1-8791-41aeb17ca90c"
   },
   "outputs": [
    {
     "name": "stdout",
     "output_type": "stream",
     "text": [
      "(5786, 1014)\n",
      "(5786, 16)\n"
     ]
    }
   ],
   "source": [
    "x=df_x.to_numpy()\n",
    "y = df_y.to_numpy()\n",
    "x=np.c_[x, vec_text_pca]\n",
    "print(x.shape)\n",
    "print(y.shape)"
   ]
  },
  {
   "cell_type": "code",
   "execution_count": 22,
   "metadata": {
    "id": "l_X3pgNnWfuq"
   },
   "outputs": [],
   "source": [
    "import numpy as np\n",
    "import torch\n",
    "from torch.utils.data import Dataset , DataLoader\n",
    "import torch.nn as nn\n",
    "import torch.optim as optim\n",
    "import torch.nn.functional as F\n",
    "\n",
    "\n",
    "from sklearn.preprocessing import StandardScaler    \n",
    "from sklearn.model_selection import train_test_split\n",
    "from sklearn.metrics import confusion_matrix, classification_report"
   ]
  },
  {
   "cell_type": "code",
   "execution_count": 23,
   "metadata": {},
   "outputs": [
    {
     "name": "stdout",
     "output_type": "stream",
     "text": [
      "(5207, 1014)\n",
      "(579, 1014)\n",
      "(5207, 16)\n",
      "(579, 16)\n",
      "(5207, 3, 90, 120)\n"
     ]
    }
   ],
   "source": [
    "tsfm = StandardScaler()\n",
    "\n",
    "X_train ,X_test, y_train, y_test = train_test_split(x,y,train_size=0.9,shuffle=False)\n",
    "print(X_train.shape)\n",
    "print(X_test.shape)\n",
    "print(y_train.shape)\n",
    "print(y_test.shape)\n",
    "\n",
    "\n",
    "X_train = X_train.astype(np.float64)\n",
    "X_test = X_test.astype(np.float64)\n",
    "y_test = y_test.astype(np.float64)\n",
    "y_train = y_train.astype(np.float64)\n",
    "X_train = tsfm.fit_transform(X_train)\n",
    "\n",
    "tsfm = StandardScaler()\n",
    "X_test = tsfm.fit_transform(X_test)\n",
    "\n",
    "list_of_images = np.array(list_of_images)\n",
    "train_images = list_of_images[:5207]\n",
    "test_images = list_of_images[5207:]\n",
    "print(train_images.shape)\n",
    "np.random.seed(0)"
   ]
  },
  {
   "cell_type": "code",
   "execution_count": 24,
   "metadata": {
    "id": "6Q87kM7KVSB_"
   },
   "outputs": [
    {
     "name": "stdout",
     "output_type": "stream",
     "text": [
      "Length of training data is: 5207\n",
      "Length of test data is: 579\n"
     ]
    }
   ],
   "source": [
    "# numpy arrays have the __len__ and __getitem__ functions by default so not sure if we need this\n",
    "class trainData(Dataset):\n",
    "    \n",
    "    def __init__(self, X_data,X_img, y_data):\n",
    "        self.X_data = X_data\n",
    "        self.X_img = X_img\n",
    "        self.y_data = y_data\n",
    "        \n",
    "    def __getitem__(self, index):\n",
    "        return (self.X_data[index],self.X_img[index]), self.y_data[index]\n",
    "        \n",
    "    def __len__ (self):\n",
    "        return len(self.X_data)\n",
    "\n",
    "\n",
    "train_data = trainData(torch.FloatTensor(X_train),torch.FloatTensor(train_images), torch.FloatTensor(y_train))\n",
    "\n",
    "\n",
    "class testData(Dataset):\n",
    "    \n",
    "    def __init__(self, X_data,X_img,y_data):\n",
    "        self.X_data = X_data\n",
    "        self.X_img = X_img\n",
    "        self.y_data = y_data\n",
    "        \n",
    "    def __getitem__(self, index):\n",
    "        return (self.X_data[index],self.X_img[index]), self.y_data[index]\n",
    "        \n",
    "    def __len__ (self):\n",
    "        return len(self.X_data)\n",
    "    \n",
    "\n",
    "test_data = testData(torch.FloatTensor(X_test),torch.FloatTensor(test_images),torch.FloatTensor(y_test))\n",
    "\n",
    "print(\"Length of training data is: {}\".format(len(train_data)))\n",
    "print(\"Length of test data is: {}\".format(len(test_data)))"
   ]
  },
  {
   "cell_type": "code",
   "execution_count": 25,
   "metadata": {},
   "outputs": [],
   "source": [
    "BATCH_SIZE = 32\n",
    "\n",
    "train_loader = DataLoader(dataset=train_data, batch_size=BATCH_SIZE, shuffle=True)\n",
    "\n",
    "test_loader = DataLoader(dataset=test_data, batch_size=BATCH_SIZE)"
   ]
  },
  {
   "cell_type": "code",
   "execution_count": 57,
   "metadata": {},
   "outputs": [],
   "source": [
    "class MyNet(nn.Module):\n",
    "    def __init__(self):\n",
    "        \n",
    "        super(MyNet, self).__init__()        \n",
    "        self.layer_1 = nn.Linear(X_train.shape[1], 512) \n",
    "        \n",
    "        self.layer2 = nn.Linear(512, 128)\n",
    "        self.layer3 = nn.Linear(128, y_train.shape[1])\n",
    "        \n",
    "        self.relu1 = nn.ReLU()\n",
    "        self.relu2 = nn.ReLU()\n",
    "        self.relu3 = nn.ReLU()\n",
    "        \n",
    "        \n",
    "        \n",
    "        #self.batchnorm1 = nn.BatchNorm1d(hidden)\n",
    "        \n",
    "        self.conv1 = nn.Conv2d(3, 6, 5)\n",
    "        self.pool = nn.MaxPool2d(2, 2)\n",
    "        self.conv2 = nn.Conv2d(6, 16, 5)\n",
    "        self.fc1 = nn.Linear(16 * 19 * 27, 128)\n",
    "        self.fc2 = nn.Linear(256, 64)\n",
    "        self.fc3 = nn.Linear(64,16)\n",
    "        \n",
    "    def forward(self, inputs):\n",
    "        text_data = inputs[0]\n",
    "        img_data = inputs[1]\n",
    "        \n",
    "        x = self.relu1(self.layer_1(text_data))\n",
    "        x = self.relu2(self.layer2(x))\n",
    "        #x = F.dropout(x,p=0.4)\n",
    "        #x = self.relu3(self.layer3(x))\n",
    "        #x = F.log_softmax(x,dim=1)\n",
    "        \n",
    "        \n",
    "        \n",
    "        y = self.pool(F.relu(self.conv1(img_data)))\n",
    "        y = F.dropout(y,0.25)\n",
    "        y = self.pool(F.relu(self.conv2(y)))\n",
    "        \n",
    "        y = y.view(-1, 16 *19*27)\n",
    "        y = F.relu(self.fc1(y))\n",
    "        \n",
    "        z = F.relu(self.fc2(torch.cat((x,y),dim=1)))\n",
    "        z = self.fc3(z)\n",
    "        z = F.log_softmax(z,dim=1)\n",
    "        \n",
    "        return z"
   ]
  },
  {
   "cell_type": "code",
   "execution_count": 58,
   "metadata": {},
   "outputs": [
    {
     "name": "stdout",
     "output_type": "stream",
     "text": [
      "MyNet(\n",
      "  (layer_1): Linear(in_features=1014, out_features=512, bias=True)\n",
      "  (layer2): Linear(in_features=512, out_features=128, bias=True)\n",
      "  (layer3): Linear(in_features=128, out_features=16, bias=True)\n",
      "  (relu1): ReLU()\n",
      "  (relu2): ReLU()\n",
      "  (relu3): ReLU()\n",
      "  (conv1): Conv2d(3, 6, kernel_size=(5, 5), stride=(1, 1))\n",
      "  (pool): MaxPool2d(kernel_size=2, stride=2, padding=0, dilation=1, ceil_mode=False)\n",
      "  (conv2): Conv2d(6, 16, kernel_size=(5, 5), stride=(1, 1))\n",
      "  (fc1): Linear(in_features=8208, out_features=128, bias=True)\n",
      "  (fc2): Linear(in_features=256, out_features=64, bias=True)\n",
      "  (fc3): Linear(in_features=64, out_features=16, bias=True)\n",
      ")\n"
     ]
    }
   ],
   "source": [
    "model = MyNet()\n",
    "print(model)"
   ]
  },
  {
   "cell_type": "code",
   "execution_count": 59,
   "metadata": {},
   "outputs": [
    {
     "name": "stdout",
     "output_type": "stream",
     "text": [
      "Train Accuracy | Epoch 005: | Loss: 2.35750 | Acc: 23.949\n",
      "Valid Accuracy | Epoch 005: | Loss: 2.32365 | Acc: 28.325\n",
      "\n",
      "Train Accuracy | Epoch 010: | Loss: 2.32983 | Acc: 24.006\n",
      "Valid Accuracy | Epoch 010: | Loss: 2.32228 | Acc: 28.325\n",
      "\n",
      "Train Accuracy | Epoch 015: | Loss: 2.10200 | Acc: 34.242\n",
      "Valid Accuracy | Epoch 015: | Loss: 2.10405 | Acc: 40.069\n",
      "\n",
      "Train Accuracy | Epoch 020: | Loss: 1.18098 | Acc: 66.199\n",
      "Valid Accuracy | Epoch 020: | Loss: 1.68003 | Acc: 51.813\n",
      "\n",
      "Train Accuracy | Epoch 025: | Loss: 0.46298 | Acc: 89.572\n",
      "Valid Accuracy | Epoch 025: | Loss: 1.67633 | Acc: 62.003\n",
      "\n",
      "Train Accuracy | Epoch 030: | Loss: 0.16922 | Acc: 97.369\n",
      "Valid Accuracy | Epoch 030: | Loss: 1.98548 | Acc: 63.903\n",
      "\n",
      "Train Accuracy | Epoch 035: | Loss: 0.08036 | Acc: 98.982\n",
      "Valid Accuracy | Epoch 035: | Loss: 2.18899 | Acc: 65.112\n",
      "\n",
      "Train Accuracy | Epoch 040: | Loss: 0.04774 | Acc: 99.597\n",
      "Valid Accuracy | Epoch 040: | Loss: 2.41946 | Acc: 66.149\n",
      "\n",
      "Train Accuracy | Epoch 045: | Loss: 0.03094 | Acc: 99.654\n",
      "Valid Accuracy | Epoch 045: | Loss: 2.58206 | Acc: 64.940\n",
      "\n",
      "Train Accuracy | Epoch 050: | Loss: 0.02070 | Acc: 99.731\n",
      "Valid Accuracy | Epoch 050: | Loss: 2.66200 | Acc: 65.976\n",
      "\n",
      "Train Accuracy | Epoch 055: | Loss: 0.01575 | Acc: 99.808\n",
      "Valid Accuracy | Epoch 055: | Loss: 2.74806 | Acc: 65.630\n",
      "\n",
      "Train Accuracy | Epoch 060: | Loss: 0.01154 | Acc: 99.885\n",
      "Valid Accuracy | Epoch 060: | Loss: 2.84255 | Acc: 64.940\n",
      "\n",
      "Train Accuracy | Epoch 065: | Loss: 0.00907 | Acc: 99.904\n",
      "Valid Accuracy | Epoch 065: | Loss: 2.90387 | Acc: 65.458\n",
      "\n",
      "Train Accuracy | Epoch 070: | Loss: 0.00729 | Acc: 99.923\n",
      "Valid Accuracy | Epoch 070: | Loss: 2.99130 | Acc: 65.803\n",
      "\n",
      "Train Accuracy | Epoch 075: | Loss: 0.00585 | Acc: 99.962\n",
      "Valid Accuracy | Epoch 075: | Loss: 3.02171 | Acc: 65.458\n",
      "\n",
      "Train Accuracy | Epoch 080: | Loss: 0.00483 | Acc: 99.962\n",
      "Valid Accuracy | Epoch 080: | Loss: 3.07220 | Acc: 65.112\n",
      "\n",
      "Train Accuracy | Epoch 085: | Loss: 0.00410 | Acc: 100.000\n",
      "Valid Accuracy | Epoch 085: | Loss: 3.09117 | Acc: 65.976\n",
      "\n",
      "Train Accuracy | Epoch 090: | Loss: 0.00350 | Acc: 100.000\n",
      "Valid Accuracy | Epoch 090: | Loss: 3.13242 | Acc: 65.630\n",
      "\n",
      "Train Accuracy | Epoch 095: | Loss: 0.00306 | Acc: 100.000\n",
      "Valid Accuracy | Epoch 095: | Loss: 3.16848 | Acc: 65.630\n",
      "\n",
      "Train Accuracy | Epoch 100: | Loss: 0.00265 | Acc: 100.000\n",
      "Valid Accuracy | Epoch 100: | Loss: 3.17547 | Acc: 65.285\n",
      "\n"
     ]
    }
   ],
   "source": [
    "EPOCHS = 100\n",
    "LEARNING_RATE = 0.01\n",
    "optimizer = optim.SGD(model.parameters(), lr=LEARNING_RATE)\n",
    "criterion = nn.NLLLoss()\n",
    "\n",
    "train_losses = []\n",
    "train_accuracies = []\n",
    "test_losses = []\n",
    "\n",
    "test_accuracies = []\n",
    "\n",
    "for e in range(1, EPOCHS+1):\n",
    "\n",
    "    model.train()\n",
    "    \n",
    "    epoch_loss = 0\n",
    "    correct = 0\n",
    "    total = 0\n",
    "    \n",
    "    for X_batch, y_batch in train_loader:\n",
    "        \n",
    "        #X_batch, y_batch = X_batch.to(device), y_batch.to(device)\n",
    "        optimizer.zero_grad()\n",
    "\n",
    "        y_pred = model(X_batch)\n",
    "        #print(y_pred.size())\n",
    "        loss = criterion(y_pred, torch.max(y_batch,1)[1])\n",
    "        loss.backward()\n",
    "        optimizer.step()\n",
    "        \n",
    "        \n",
    "        predicted = torch.max(y_pred.data, 1)[1]     \n",
    "        y_temp = torch.max(y_batch.data,1)[1]\n",
    "        correct += (predicted == y_temp).sum()\n",
    "        total += float(len(y_batch))\n",
    "        \n",
    "        \n",
    "        epoch_loss += loss.item()\n",
    "        \n",
    "    train_accuracies.append(correct*100/total)\n",
    "    train_losses.append(epoch_loss/len(train_loader))\n",
    "    if (e+1)%5==0:\n",
    "        print(f'Train Accuracy | Epoch {e+1:03}: | Loss: {epoch_loss/len(train_loader):.5f} | Acc: {correct*100/total:.3f}')\n",
    "\n",
    "    model.eval()\n",
    "    with torch.no_grad():\n",
    "        test_loss = 0\n",
    "        correct_val = 0\n",
    "        total_val = 0\n",
    "        for X_val, y_val in test_loader:\n",
    "            #X_val, y_val = X_val.to(device), y_val.to(device)\n",
    "\n",
    "            y_predval = model(X_val)\n",
    "            loss = criterion(y_predval,torch.max(y_val,1)[1])\n",
    "            \n",
    "            predicted = torch.max(y_predval.data, 1)[1] \n",
    "            y_temp = torch.max(y_val.data,1)[1]\n",
    "            \n",
    "            correct_val += (predicted == y_temp).sum()\n",
    "            total_val += float(len(y_val))\n",
    "            \n",
    "            \n",
    "            test_loss += loss.item()\n",
    "\n",
    "    test_accuracies.append(float(correct_val/total_val))\n",
    "    test_losses.append(test_loss/len(test_loader))\n",
    "    if (e+1)%5==0:\n",
    "        print(f'Valid Accuracy | Epoch {e+1:03}: | Loss: {test_loss/len(test_loader):.5f} | Acc: {correct_val*100/total_val:.3f}\\n')\n"
   ]
  },
  {
   "cell_type": "code",
   "execution_count": 60,
   "metadata": {},
   "outputs": [
    {
     "data": {
      "image/png": "[encoded data removed]",
      "text/plain": [
       "<Figure size 432x288 with 1 Axes>"
      ]
     },
     "metadata": {
      "needs_background": "light"
     },
     "output_type": "display_data"
    }
   ],
   "source": [
    "import matplotlib.pyplot as plt\n",
    "\n",
    "plt.plot(train_losses,label='train')\n",
    "plt.plot(test_losses,label='val')\n",
    "plt.legend()\n",
    "plt.show()"
   ]
  },
  {
   "cell_type": "code",
   "execution_count": null,
   "metadata": {},
   "outputs": [],
   "source": []
  }
 ],
 "metadata": {
  "accelerator": "GPU",
  "colab": {
   "name": "dl.ipynb",
   "provenance": []
  },
  "kernelspec": {
   "display_name": "Python 3",
   "language": "python",
   "name": "python3"
  },
  "language_info": {
   "codemirror_mode": {
    "name": "ipython",
    "version": 3
   },
   "file_extension": ".py",
   "mimetype": "text/x-python",
   "name": "python",
   "nbconvert_exporter": "python",
   "pygments_lexer": "ipython3",
   "version": "3.8.6"
  }
 },
 "nbformat": 4,
 "nbformat_minor": 4
}
