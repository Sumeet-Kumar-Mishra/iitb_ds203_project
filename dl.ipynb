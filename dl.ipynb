{
  "nbformat": 4,
  "nbformat_minor": 0,
  "metadata": {
    "kernelspec": {
      "display_name": "Python 3",
      "language": "python",
      "name": "python3"
    },
    "language_info": {
      "codemirror_mode": {
        "name": "ipython",
        "version": 3
      },
      "file_extension": ".py",
      "mimetype": "text/x-python",
      "name": "python",
      "nbconvert_exporter": "python",
      "pygments_lexer": "ipython3",
      "version": "3.8.5"
    },
    "colab": {
      "name": "dl.ipynb",
      "provenance": []
    },
    "accelerator": "GPU"
  },
  "cells": [
    {
      "cell_type": "code",
      "metadata": {
        "id": "SnBeijr9R4YO"
      },
      "source": [
        "import numpy as np\n",
        "import pandas as pd"
      ],
      "execution_count": 23,
      "outputs": []
    },
    {
      "cell_type": "code",
      "metadata": {
        "id": "71AAUqi4R4Yj"
      },
      "source": [
        "df = pd.read_csv(\"USpreprocessed.csv\")"
      ],
      "execution_count": 24,
      "outputs": []
    },
    {
      "cell_type": "code",
      "metadata": {
        "id": "ZnV1TZg4R4Yl"
      },
      "source": [
        "df.dropna(inplace=True)"
      ],
      "execution_count": 25,
      "outputs": []
    },
    {
      "cell_type": "code",
      "metadata": {
        "colab": {
          "base_uri": "https://localhost:8080/",
          "height": 462
        },
        "id": "w-rvoo0KR4Yo",
        "outputId": "e81d6605-76fd-4331-d904-4271ec512ccb"
      },
      "source": [
        "df.head()"
      ],
      "execution_count": 26,
      "outputs": [
        {
          "output_type": "execute_result",
          "data": {
            "text/html": [
              "<div>\n",
              "<style scoped>\n",
              "    .dataframe tbody tr th:only-of-type {\n",
              "        vertical-align: middle;\n",
              "    }\n",
              "\n",
              "    .dataframe tbody tr th {\n",
              "        vertical-align: top;\n",
              "    }\n",
              "\n",
              "    .dataframe thead th {\n",
              "        text-align: right;\n",
              "    }\n",
              "</style>\n",
              "<table border=\"1\" class=\"dataframe\">\n",
              "  <thead>\n",
              "    <tr style=\"text-align: right;\">\n",
              "      <th></th>\n",
              "      <th>video_id</th>\n",
              "      <th>title</th>\n",
              "      <th>channel_title</th>\n",
              "      <th>category_id</th>\n",
              "      <th>views</th>\n",
              "      <th>likes</th>\n",
              "      <th>dislikes</th>\n",
              "      <th>comment_count</th>\n",
              "      <th>thumbnail_link</th>\n",
              "      <th>comments_disabled</th>\n",
              "      <th>ratings_disabled</th>\n",
              "      <th>video_error_or_removed</th>\n",
              "      <th>description</th>\n",
              "      <th>trend_date</th>\n",
              "      <th>trend_month</th>\n",
              "      <th>trend_year</th>\n",
              "      <th>pub_date</th>\n",
              "      <th>pub_month</th>\n",
              "      <th>pub_year</th>\n",
              "      <th>pub_hour</th>\n",
              "    </tr>\n",
              "  </thead>\n",
              "  <tbody>\n",
              "    <tr>\n",
              "      <th>0</th>\n",
              "      <td>2kyS6SvSYSE</td>\n",
              "      <td>want talk marriag</td>\n",
              "      <td>CaseyNeistat</td>\n",
              "      <td>22</td>\n",
              "      <td>748374</td>\n",
              "      <td>57527</td>\n",
              "      <td>2966</td>\n",
              "      <td>15954</td>\n",
              "      <td>https://i.ytimg.com/vi/2kyS6SvSYSE/default.jpg</td>\n",
              "      <td>False</td>\n",
              "      <td>False</td>\n",
              "      <td>False</td>\n",
              "      <td>shantel channel httpswwwyoutubecomshantellmart...</td>\n",
              "      <td>11</td>\n",
              "      <td>14</td>\n",
              "      <td>17</td>\n",
              "      <td>13</td>\n",
              "      <td>11</td>\n",
              "      <td>17</td>\n",
              "      <td>17</td>\n",
              "    </tr>\n",
              "    <tr>\n",
              "      <th>1</th>\n",
              "      <td>1ZAPwfrtAFY</td>\n",
              "      <td>trump presid last week tonight john oliv hbo</td>\n",
              "      <td>LastWeekTonight</td>\n",
              "      <td>24</td>\n",
              "      <td>2418783</td>\n",
              "      <td>97185</td>\n",
              "      <td>6146</td>\n",
              "      <td>12703</td>\n",
              "      <td>https://i.ytimg.com/vi/1ZAPwfrtAFY/default.jpg</td>\n",
              "      <td>False</td>\n",
              "      <td>False</td>\n",
              "      <td>False</td>\n",
              "      <td>one year presidenti elect john oliv discuss we...</td>\n",
              "      <td>11</td>\n",
              "      <td>14</td>\n",
              "      <td>17</td>\n",
              "      <td>13</td>\n",
              "      <td>11</td>\n",
              "      <td>17</td>\n",
              "      <td>7</td>\n",
              "    </tr>\n",
              "    <tr>\n",
              "      <th>2</th>\n",
              "      <td>5qpjK5DgCt4</td>\n",
              "      <td>racist superman rudi mancuso king bach lele pon</td>\n",
              "      <td>Rudy Mancuso</td>\n",
              "      <td>23</td>\n",
              "      <td>3191434</td>\n",
              "      <td>146033</td>\n",
              "      <td>5339</td>\n",
              "      <td>8181</td>\n",
              "      <td>https://i.ytimg.com/vi/5qpjK5DgCt4/default.jpg</td>\n",
              "      <td>False</td>\n",
              "      <td>False</td>\n",
              "      <td>False</td>\n",
              "      <td>watch previou video ▶ nnsubscrib ► httpswwwyou...</td>\n",
              "      <td>11</td>\n",
              "      <td>14</td>\n",
              "      <td>17</td>\n",
              "      <td>12</td>\n",
              "      <td>11</td>\n",
              "      <td>17</td>\n",
              "      <td>19</td>\n",
              "    </tr>\n",
              "    <tr>\n",
              "      <th>3</th>\n",
              "      <td>puqaWrEC7tY</td>\n",
              "      <td>nickelback lyric real fake</td>\n",
              "      <td>Good Mythical Morning</td>\n",
              "      <td>24</td>\n",
              "      <td>343168</td>\n",
              "      <td>10172</td>\n",
              "      <td>666</td>\n",
              "      <td>2146</td>\n",
              "      <td>https://i.ytimg.com/vi/puqaWrEC7tY/default.jpg</td>\n",
              "      <td>False</td>\n",
              "      <td>False</td>\n",
              "      <td>False</td>\n",
              "      <td>today find link nickelback amateur secret nick...</td>\n",
              "      <td>11</td>\n",
              "      <td>14</td>\n",
              "      <td>17</td>\n",
              "      <td>13</td>\n",
              "      <td>11</td>\n",
              "      <td>17</td>\n",
              "      <td>11</td>\n",
              "    </tr>\n",
              "    <tr>\n",
              "      <th>4</th>\n",
              "      <td>d380meD0W0M</td>\n",
              "      <td>dare go bald</td>\n",
              "      <td>nigahiga</td>\n",
              "      <td>24</td>\n",
              "      <td>2095731</td>\n",
              "      <td>132235</td>\n",
              "      <td>1989</td>\n",
              "      <td>17518</td>\n",
              "      <td>https://i.ytimg.com/vi/d380meD0W0M/default.jpg</td>\n",
              "      <td>False</td>\n",
              "      <td>False</td>\n",
              "      <td>False</td>\n",
              "      <td>know sinc show back might best episod yetnleav...</td>\n",
              "      <td>11</td>\n",
              "      <td>14</td>\n",
              "      <td>17</td>\n",
              "      <td>12</td>\n",
              "      <td>11</td>\n",
              "      <td>17</td>\n",
              "      <td>18</td>\n",
              "    </tr>\n",
              "  </tbody>\n",
              "</table>\n",
              "</div>"
            ],
            "text/plain": [
              "      video_id  ... pub_hour\n",
              "0  2kyS6SvSYSE  ...       17\n",
              "1  1ZAPwfrtAFY  ...        7\n",
              "2  5qpjK5DgCt4  ...       19\n",
              "3  puqaWrEC7tY  ...       11\n",
              "4  d380meD0W0M  ...       18\n",
              "\n",
              "[5 rows x 20 columns]"
            ]
          },
          "metadata": {
            "tags": []
          },
          "execution_count": 26
        }
      ]
    },
    {
      "cell_type": "code",
      "metadata": {
        "id": "AP45OoA0R4Yt"
      },
      "source": [
        " df.drop(\"thumbnail_link\", axis=1, inplace=True)"
      ],
      "execution_count": 27,
      "outputs": []
    },
    {
      "cell_type": "code",
      "metadata": {
        "id": "axCS93TQR4Yu"
      },
      "source": [
        "df.drop_duplicates(\"video_id\", keep=\"last\", inplace=True)"
      ],
      "execution_count": 28,
      "outputs": []
    },
    {
      "cell_type": "code",
      "metadata": {
        "colab": {
          "base_uri": "https://localhost:8080/"
        },
        "id": "7rnc10LJR4Y3",
        "outputId": "a69b8467-1a29-442e-c910-3d309d4fc35b"
      },
      "source": [
        "df.shape"
      ],
      "execution_count": 29,
      "outputs": [
        {
          "output_type": "execute_result",
          "data": {
            "text/plain": [
              "(6248, 19)"
            ]
          },
          "metadata": {
            "tags": []
          },
          "execution_count": 29
        }
      ]
    },
    {
      "cell_type": "code",
      "metadata": {
        "colab": {
          "base_uri": "https://localhost:8080/"
        },
        "id": "azfkUrhoR4Y4",
        "outputId": "ec4813ca-123d-43d8-f42b-279e1c96eb4e"
      },
      "source": [
        "df.columns"
      ],
      "execution_count": 30,
      "outputs": [
        {
          "output_type": "execute_result",
          "data": {
            "text/plain": [
              "Index(['video_id', 'title', 'channel_title', 'category_id', 'views', 'likes',\n",
              "       'dislikes', 'comment_count', 'comments_disabled', 'ratings_disabled',\n",
              "       'video_error_or_removed', 'description', 'trend_date', 'trend_month',\n",
              "       'trend_year', 'pub_date', 'pub_month', 'pub_year', 'pub_hour'],\n",
              "      dtype='object')"
            ]
          },
          "metadata": {
            "tags": []
          },
          "execution_count": 30
        }
      ]
    },
    {
      "cell_type": "code",
      "metadata": {
        "id": "_RpUgRisR4Y5"
      },
      "source": [
        "df.drop([\"video_id\"], axis=1, inplace=True)"
      ],
      "execution_count": 31,
      "outputs": []
    },
    {
      "cell_type": "code",
      "metadata": {
        "id": "CyABavDYR4Y7"
      },
      "source": [
        "df_x = df.drop(\"category_id\", axis=1)\n",
        "df_y = pd.get_dummies(df[\"category_id\"], prefix=\"cat\")"
      ],
      "execution_count": 32,
      "outputs": []
    },
    {
      "cell_type": "code",
      "metadata": {
        "id": "k7N6NYh2R4Y-"
      },
      "source": [
        "df_x[\"text\"]=df_x[\"title\"]+\" \"+df_x[\"channel_title\"]+\" \"+df_x[\"description\"]"
      ],
      "execution_count": 33,
      "outputs": []
    },
    {
      "cell_type": "code",
      "metadata": {
        "id": "5bG8pRPkR4ZA"
      },
      "source": [
        "df_x.drop([\"title\", \"channel_title\", \"description\"], axis=1, inplace=True)"
      ],
      "execution_count": 34,
      "outputs": []
    },
    {
      "cell_type": "code",
      "metadata": {
        "id": "O9Ro7M5wR4ZC"
      },
      "source": [
        "from sklearn.feature_extraction.text import TfidfVectorizer\n",
        "vectorizer=TfidfVectorizer(ngram_range=(1,2), max_df=0.5, max_features=10000)"
      ],
      "execution_count": 35,
      "outputs": []
    },
    {
      "cell_type": "code",
      "metadata": {
        "id": "gL1MWjSfR4ZC"
      },
      "source": [
        "vectorized_text = vectorizer.fit_transform(df_x[\"text\"])"
      ],
      "execution_count": 36,
      "outputs": []
    },
    {
      "cell_type": "code",
      "metadata": {
        "colab": {
          "base_uri": "https://localhost:8080/"
        },
        "id": "jOhZst88R4ZE",
        "outputId": "bb1212c1-5709-4d17-e2e7-8a5da6e20dc8"
      },
      "source": [
        "vectorized_text.shape"
      ],
      "execution_count": 37,
      "outputs": [
        {
          "output_type": "execute_result",
          "data": {
            "text/plain": [
              "(6248, 10000)"
            ]
          },
          "metadata": {
            "tags": []
          },
          "execution_count": 37
        }
      ]
    },
    {
      "cell_type": "code",
      "metadata": {
        "id": "O14JAWQhR4ZF"
      },
      "source": [
        "from sklearn.decomposition import PCA\n",
        "pca=PCA(n_components=1000)"
      ],
      "execution_count": 38,
      "outputs": []
    },
    {
      "cell_type": "code",
      "metadata": {
        "id": "YDVs-W6pR4ZG"
      },
      "source": [
        "vec_text_pca = pca.fit_transform(vectorized_text.todense())"
      ],
      "execution_count": 39,
      "outputs": []
    },
    {
      "cell_type": "code",
      "metadata": {
        "colab": {
          "base_uri": "https://localhost:8080/"
        },
        "id": "lSm5I1iYR4ZH",
        "outputId": "a8bbe96e-c449-42b3-99b8-d275beabcf0e"
      },
      "source": [
        "pca.explained_variance_ratio_.sum()"
      ],
      "execution_count": 40,
      "outputs": [
        {
          "output_type": "execute_result",
          "data": {
            "text/plain": [
              "0.7325288070586264"
            ]
          },
          "metadata": {
            "tags": []
          },
          "execution_count": 40
        }
      ]
    },
    {
      "cell_type": "code",
      "metadata": {
        "id": "IW6Zp8GQUSBD"
      },
      "source": [
        "df_x.drop(\"text\", axis=1, inplace=True)"
      ],
      "execution_count": 41,
      "outputs": []
    },
    {
      "cell_type": "code",
      "metadata": {
        "colab": {
          "base_uri": "https://localhost:8080/"
        },
        "id": "xROICljJUsMx",
        "outputId": "c176afa3-9615-41e1-8791-41aeb17ca90c"
      },
      "source": [
        "x=df_x.to_numpy()\n",
        "y = df_y.to_numpy()\n",
        "x=np.c_[x, vec_text_pca]\n",
        "print(x.shape)\n",
        "print(y.shape)"
      ],
      "execution_count": 49,
      "outputs": [
        {
          "output_type": "stream",
          "text": [
            "(6248, 1014)\n",
            "(6248, 16)\n"
          ],
          "name": "stdout"
        }
      ]
    },
    {
      "cell_type": "code",
      "metadata": {
        "id": "l_X3pgNnWfuq"
      },
      "source": [
        "import numpy as np\n",
        "import torch\n",
        "import torch.utils.data as tud\n",
        "import torch.nn as tnn"
      ],
      "execution_count": 55,
      "outputs": []
    },
    {
      "cell_type": "code",
      "metadata": {
        "id": "6Q87kM7KVSB_"
      },
      "source": [
        "# incomplete\n",
        "class my_dataset(tud.Dataset):\n",
        "  def __init__(self, size=10000):\n",
        "    self.data = x\n",
        "    self.labels=labels\n",
        "  \n",
        "  def __len__(self):\n",
        "    return len(self.data)\n",
        "\n",
        "  def __getitem__(self, idx):\n",
        "    return {'point': self.data[idx], 'label': self.labels[idx]}"
      ],
      "execution_count": null,
      "outputs": []
    }
  ]
}