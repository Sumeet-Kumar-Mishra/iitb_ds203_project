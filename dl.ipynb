{
 "cells": [
  {
   "cell_type": "code",
   "execution_count": 1,
   "metadata": {
    "id": "SnBeijr9R4YO"
   },
   "outputs": [],
   "source": [
    "import numpy as np\n",
    "import pandas as pd\n",
    "import matplotlib.pyplot as plt\n",
    "import matplotlib.image as mpimg\n",
    "from skimage.transform import rescale, resize"
   ]
  },
  {
   "cell_type": "code",
   "execution_count": 2,
   "metadata": {
    "id": "71AAUqi4R4Yj"
   },
   "outputs": [],
   "source": [
    "df = pd.read_csv(\"csv_files/USpreprocessed.csv\")\n",
    "df2 = pd.read_csv(\"csv_files/GBpreprocessed.csv\")"
   ]
  },
  {
   "cell_type": "code",
   "execution_count": 3,
   "metadata": {
    "id": "ZnV1TZg4R4Yl"
   },
   "outputs": [],
   "source": [
    "df.dropna(inplace=True)\n",
    "df2.dropna(inplace=True)\n",
    "#print(df['category_id'].dtype)"
   ]
  },
  {
   "cell_type": "code",
   "execution_count": 4,
   "metadata": {
    "colab": {
     "base_uri": "https://localhost:8080/",
     "height": 462
    },
    "id": "w-rvoo0KR4Yo",
    "outputId": "e81d6605-76fd-4331-d904-4271ec512ccb"
   },
   "outputs": [],
   "source": [
    "#all categories are same. Britain doesn't have 29, hence dropping it from US dataframe\n",
    "\n",
    "df.drop(df[df['category_id']==29].index,inplace=True)"
   ]
  },
  {
   "cell_type": "code",
   "execution_count": 5,
   "metadata": {
    "id": "axCS93TQR4Yu"
   },
   "outputs": [
    {
     "name": "stdout",
     "output_type": "stream",
     "text": [
      "(3213, 20)\n"
     ]
    }
   ],
   "source": [
    "df.drop_duplicates(\"video_id\", keep=\"last\", inplace=True,ignore_index=True)\n",
    "df2.drop_duplicates(\"video_id\",keep=\"last\",inplace=True,ignore_index=True)\n",
    "print(df2.shape)\n",
    "df.to_csv('csv_files/USduplicates.csv')\n",
    "df2.to_csv('csv_files/GBduplicates.csv')"
   ]
  },
  {
   "cell_type": "code",
   "execution_count": 6,
   "metadata": {
    "colab": {
     "base_uri": "https://localhost:8080/"
    },
    "id": "7rnc10LJR4Y3",
    "outputId": "a69b8467-1a29-442e-c910-3d309d4fc35b"
   },
   "outputs": [
    {
     "data": {
      "text/plain": [
       "(8608, 20)"
      ]
     },
     "execution_count": 6,
     "metadata": {},
     "output_type": "execute_result"
    }
   ],
   "source": [
    "df.drop(\"thumbnail_link\", axis=1, inplace=True)\n",
    "df2.drop(\"thumbnail_link\", axis=1, inplace=True)\n",
    "\n",
    "df_stat = pd.read_csv('image_data/USpics/status.csv')\n",
    "df2_stat = pd.read_csv('image_data/GBpics/status.csv')\n",
    "\n",
    "\n",
    "df['image_status'] = df_stat['0']\n",
    "df['image_status'] = df['image_status'].astype(bool)\n",
    "\n",
    "df2['image_status'] = df2_stat['0']\n",
    "df2['image_status'] = df2['image_status'].astype(bool)\n",
    "\n",
    "\n",
    "df['file_path'] = np.nan\n",
    "df['file_path'] = df['file_path'].astype(str)\n",
    "df2['file_path'] = np.nan\n",
    "df2['file_path'] = df2['file_path'].astype(str)\n",
    "\n",
    "for i in range(df.shape[0]):\n",
    "    if df.iloc[i]['image_status'] == True:\n",
    "        df.at[i,'file_path'] = \"image_data/USpics/image-{}.jpg\".format(i)\n",
    "\n",
    "\n",
    "for i in range(df2.shape[0]):\n",
    "    if df2.iloc[i]['image_status'] == True:\n",
    "        df2.at[i,'file_path'] = \"image_data/GBpics/image-{}.jpg\".format(i)\n",
    "\n",
    "        \n",
    "df.drop(df[df['image_status']==False].index,inplace=True)\n",
    "df.drop(columns=['image_status'],inplace=True)\n",
    "\n",
    "        \n",
    "df2.drop(df2[df2['image_status']==False].index,inplace=True)\n",
    "df2.drop(columns=['image_status'],inplace=True)\n",
    "\n",
    "\n",
    "df = pd.concat([df,df2],ignore_index=True)\n",
    "df.drop(df[df['file_path']==\"image_data/GBpics/image-916.jpg\"].index,inplace=True)\n",
    "df.shape\n"
   ]
  },
  {
   "cell_type": "code",
   "execution_count": 7,
   "metadata": {},
   "outputs": [],
   "source": [
    "import os\n",
    "list_of_images = []\n",
    "for file_path in df['file_path']:\n",
    "    img = mpimg.imread(file_path)\n",
    "    if img.shape != (90,120,3):\n",
    "        print(\"Yayy\")\n",
    "        print(file_path)\n",
    "    img = np.transpose(img,(2,0,1))\n",
    "    list_of_images.append(img)\n",
    "\n",
    "\n",
    "df.drop(columns=['file_path'],inplace=True)\n"
   ]
  },
  {
   "cell_type": "code",
   "execution_count": 8,
   "metadata": {},
   "outputs": [
    {
     "name": "stdout",
     "output_type": "stream",
     "text": [
      "8608\n",
      "(3, 90, 120)\n",
      "(8608, 3, 90, 120)\n"
     ]
    }
   ],
   "source": [
    "print(len(list_of_images))\n",
    "print(list_of_images[0].shape)\n",
    "list_of_images = np.array(list_of_images)\n",
    "print(list_of_images.shape)"
   ]
  },
  {
   "cell_type": "code",
   "execution_count": 9,
   "metadata": {},
   "outputs": [],
   "source": [
    "for i in range(len(list_of_images)):\n",
    "    list_of_images[i] = (list_of_images[i]-128)/256"
   ]
  },
  {
   "cell_type": "code",
   "execution_count": 10,
   "metadata": {
    "id": "_RpUgRisR4Y5"
   },
   "outputs": [],
   "source": [
    "df.drop([\"video_id\"], axis=1, inplace=True)"
   ]
  },
  {
   "cell_type": "code",
   "execution_count": 11,
   "metadata": {
    "id": "CyABavDYR4Y7"
   },
   "outputs": [],
   "source": [
    "df_x = df.drop(\"category_id\", axis=1)\n",
    "df_y = pd.get_dummies(df[\"category_id\"], prefix=\"cat\")"
   ]
  },
  {
   "cell_type": "code",
   "execution_count": 12,
   "metadata": {
    "id": "k7N6NYh2R4Y-"
   },
   "outputs": [],
   "source": [
    "#tokenize this\n",
    "df_x[\"text\"]=df_x[\"title\"]+\" \"+df_x[\"channel_title\"]+\" \"+df_x[\"description\"]"
   ]
  },
  {
   "cell_type": "code",
   "execution_count": 13,
   "metadata": {
    "id": "5bG8pRPkR4ZA"
   },
   "outputs": [],
   "source": [
    "df_x.drop([\"title\", \"channel_title\", \"description\"], axis=1, inplace=True)"
   ]
  },
  {
   "cell_type": "code",
   "execution_count": 14,
   "metadata": {
    "id": "O9Ro7M5wR4ZC"
   },
   "outputs": [],
   "source": [
    "from sklearn.feature_extraction.text import TfidfVectorizer\n",
    "vectorizer=TfidfVectorizer(ngram_range=(1,2), max_df=0.5, max_features=10000)"
   ]
  },
  {
   "cell_type": "code",
   "execution_count": 15,
   "metadata": {
    "id": "gL1MWjSfR4ZC"
   },
   "outputs": [],
   "source": [
    "vectorized_text = vectorizer.fit_transform(df_x[\"text\"])"
   ]
  },
  {
   "cell_type": "code",
   "execution_count": 16,
   "metadata": {
    "colab": {
     "base_uri": "https://localhost:8080/"
    },
    "id": "jOhZst88R4ZE",
    "outputId": "bb1212c1-5709-4d17-e2e7-8a5da6e20dc8"
   },
   "outputs": [
    {
     "data": {
      "text/plain": [
       "(8608, 10000)"
      ]
     },
     "execution_count": 16,
     "metadata": {},
     "output_type": "execute_result"
    }
   ],
   "source": [
    "vectorized_text.shape"
   ]
  },
  {
   "cell_type": "code",
   "execution_count": 17,
   "metadata": {
    "id": "O14JAWQhR4ZF"
   },
   "outputs": [],
   "source": [
    "from sklearn.decomposition import PCA\n",
    "pca=PCA(n_components=1000)"
   ]
  },
  {
   "cell_type": "code",
   "execution_count": 18,
   "metadata": {
    "id": "YDVs-W6pR4ZG"
   },
   "outputs": [],
   "source": [
    "vec_text_pca = pca.fit_transform(vectorized_text.todense())"
   ]
  },
  {
   "cell_type": "code",
   "execution_count": 19,
   "metadata": {
    "colab": {
     "base_uri": "https://localhost:8080/"
    },
    "id": "lSm5I1iYR4ZH",
    "outputId": "a8bbe96e-c449-42b3-99b8-d275beabcf0e"
   },
   "outputs": [
    {
     "data": {
      "text/plain": [
       "0.7051210335501265"
      ]
     },
     "execution_count": 19,
     "metadata": {},
     "output_type": "execute_result"
    }
   ],
   "source": [
    "pca.explained_variance_ratio_.sum()"
   ]
  },
  {
   "cell_type": "code",
   "execution_count": 20,
   "metadata": {
    "id": "IW6Zp8GQUSBD"
   },
   "outputs": [],
   "source": [
    "df_x.drop(\"text\", axis=1, inplace=True)"
   ]
  },
  {
   "cell_type": "code",
   "execution_count": 21,
   "metadata": {
    "colab": {
     "base_uri": "https://localhost:8080/"
    },
    "id": "xROICljJUsMx",
    "outputId": "c176afa3-9615-41e1-8791-41aeb17ca90c"
   },
   "outputs": [
    {
     "name": "stdout",
     "output_type": "stream",
     "text": [
      "(8608, 1014)\n",
      "(8608, 16)\n"
     ]
    }
   ],
   "source": [
    "x=df_x.to_numpy()\n",
    "y = df_y.to_numpy()\n",
    "x=np.c_[x, vec_text_pca]\n",
    "print(x.shape)\n",
    "print(y.shape)"
   ]
  },
  {
   "cell_type": "code",
   "execution_count": 22,
   "metadata": {
    "id": "l_X3pgNnWfuq"
   },
   "outputs": [],
   "source": [
    "import numpy as np\n",
    "import torch\n",
    "from torch.utils.data import Dataset , DataLoader\n",
    "import torch.nn as nn\n",
    "import torch.optim as optim\n",
    "import torch.nn.functional as F\n",
    "\n",
    "\n",
    "from sklearn.preprocessing import StandardScaler    \n",
    "from sklearn.model_selection import train_test_split\n",
    "from sklearn.metrics import confusion_matrix, classification_report"
   ]
  },
  {
   "cell_type": "code",
   "execution_count": 23,
   "metadata": {},
   "outputs": [
    {
     "name": "stdout",
     "output_type": "stream",
     "text": [
      "(7316, 1014)\n",
      "(1292, 1014)\n",
      "(7316, 16)\n",
      "(1292, 16)\n",
      "(7316, 3, 90, 120)\n"
     ]
    }
   ],
   "source": [
    "tsfm = StandardScaler()\n",
    "\n",
    "X_train ,X_test, y_train, y_test = train_test_split(x,y,train_size=0.85,shuffle=False)\n",
    "print(X_train.shape)\n",
    "print(X_test.shape)\n",
    "print(y_train.shape)\n",
    "print(y_test.shape)\n",
    "\n",
    "\n",
    "X_train = X_train.astype(np.float64)\n",
    "X_test = X_test.astype(np.float64)\n",
    "y_test = y_test.astype(np.float64)\n",
    "y_train = y_train.astype(np.float64)\n",
    "X_train = tsfm.fit_transform(X_train)\n",
    "\n",
    "tsfm = StandardScaler()\n",
    "X_test = tsfm.fit_transform(X_test)\n",
    "\n",
    "#list_of_images = np.array(list_of_images)\n",
    "train_images = list_of_images[:7316]\n",
    "test_images = list_of_images[7316:]\n",
    "print(train_images.shape)\n",
    "np.random.seed(0)"
   ]
  },
  {
   "cell_type": "code",
   "execution_count": 24,
   "metadata": {
    "id": "6Q87kM7KVSB_"
   },
   "outputs": [
    {
     "name": "stdout",
     "output_type": "stream",
     "text": [
      "Length of training data is: 7316\n",
      "Length of test data is: 1292\n"
     ]
    }
   ],
   "source": [
    "# numpy arrays have the __len__ and __getitem__ functions by default so not sure if we need this\n",
    "class trainData(Dataset):\n",
    "    \n",
    "    def __init__(self, X_data,X_img, y_data):\n",
    "        self.X_data = X_data\n",
    "        self.X_img = X_img\n",
    "        self.y_data = y_data\n",
    "        \n",
    "    def __getitem__(self, index):\n",
    "        return (self.X_data[index],self.X_img[index]), self.y_data[index]\n",
    "        \n",
    "    def __len__ (self):\n",
    "        return len(self.X_data)\n",
    "\n",
    "\n",
    "train_data = trainData(torch.FloatTensor(X_train),torch.FloatTensor(train_images), torch.FloatTensor(y_train))\n",
    "\n",
    "\n",
    "class testData(Dataset):\n",
    "    \n",
    "    def __init__(self, X_data,X_img,y_data):\n",
    "        self.X_data = X_data\n",
    "        self.X_img = X_img\n",
    "        self.y_data = y_data\n",
    "        \n",
    "    def __getitem__(self, index):\n",
    "        return (self.X_data[index],self.X_img[index]), self.y_data[index]\n",
    "        \n",
    "    def __len__ (self):\n",
    "        return len(self.X_data)\n",
    "    \n",
    "\n",
    "test_data = testData(torch.FloatTensor(X_test),torch.FloatTensor(test_images),torch.FloatTensor(y_test))\n",
    "\n",
    "print(\"Length of training data is: {}\".format(len(train_data)))\n",
    "print(\"Length of test data is: {}\".format(len(test_data)))"
   ]
  },
  {
   "cell_type": "code",
   "execution_count": 25,
   "metadata": {},
   "outputs": [],
   "source": [
    "BATCH_SIZE = 32\n",
    "\n",
    "train_loader = DataLoader(dataset=train_data, batch_size=BATCH_SIZE, shuffle=True)\n",
    "\n",
    "test_loader = DataLoader(dataset=test_data, batch_size=BATCH_SIZE)"
   ]
  },
  {
   "cell_type": "code",
   "execution_count": 26,
   "metadata": {},
   "outputs": [],
   "source": [
    "class MyNet(nn.Module):\n",
    "    def __init__(self):\n",
    "        \n",
    "        super(MyNet, self).__init__()        \n",
    "        self.layer1 = nn.Linear(X_train.shape[1], 512) \n",
    "        \n",
    "        self.layer2 = nn.Linear(512, 128)\n",
    "        self.layer3 = nn.Linear(128, y_train.shape[1])\n",
    "        \n",
    "        self.relu1 = nn.ReLU()\n",
    "        self.relu2 = nn.ReLU()\n",
    "        self.relu3 = nn.ReLU()\n",
    "        \n",
    "        \n",
    "        \n",
    "        #self.batchnorm1 = nn.BatchNorm1d(hidden)\n",
    "        \n",
    "        self.conv1 = nn.Conv2d(3, 6, 5)\n",
    "        self.pool = nn.MaxPool2d(2, 2)\n",
    "        self.conv2 = nn.Conv2d(6, 16, 5)\n",
    "        self.fc1 = nn.Linear(16 * 19 * 27, 128)\n",
    "        self.fc2 = nn.Linear(256, 16)\n",
    "        self.fc3 = nn.Linear(64,16)\n",
    "        \n",
    "    def forward(self, inputs):\n",
    "        text_data = inputs[0]\n",
    "        img_data = inputs[1]\n",
    "        \n",
    "        x = self.relu1(self.layer1(text_data))\n",
    "        x = F.dropout(x,0.4)\n",
    "        x = self.relu2(self.layer2(x))\n",
    "        #x = F.dropout(x,p=0.4)\n",
    "        #x = self.relu3(self.layer3(x))\n",
    "        #x = F.log_softmax(x,dim=1)\n",
    "        \n",
    "        \n",
    "        \n",
    "        y = self.pool(F.relu(self.conv1(img_data)))\n",
    "        y = F.dropout(y,0.3)\n",
    "        y = self.pool(F.relu(self.conv2(y)))\n",
    "        \n",
    "        y = y.view(-1, 16 *19*27)\n",
    "        y = F.relu(self.fc1(y))\n",
    "        \n",
    "        z = (self.fc2(torch.cat((x,y),dim=1)))\n",
    "        #z = self.fc3(z)\n",
    "        z = F.log_softmax(z,dim=1)\n",
    "        \n",
    "        return z"
   ]
  },
  {
   "cell_type": "code",
   "execution_count": 27,
   "metadata": {},
   "outputs": [
    {
     "name": "stdout",
     "output_type": "stream",
     "text": [
      "MyNet(\n",
      "  (layer1): Linear(in_features=1014, out_features=512, bias=True)\n",
      "  (layer2): Linear(in_features=512, out_features=128, bias=True)\n",
      "  (layer3): Linear(in_features=128, out_features=16, bias=True)\n",
      "  (relu1): ReLU()\n",
      "  (relu2): ReLU()\n",
      "  (relu3): ReLU()\n",
      "  (conv1): Conv2d(3, 6, kernel_size=(5, 5), stride=(1, 1))\n",
      "  (pool): MaxPool2d(kernel_size=2, stride=2, padding=0, dilation=1, ceil_mode=False)\n",
      "  (conv2): Conv2d(6, 16, kernel_size=(5, 5), stride=(1, 1))\n",
      "  (fc1): Linear(in_features=8208, out_features=128, bias=True)\n",
      "  (fc2): Linear(in_features=256, out_features=16, bias=True)\n",
      "  (fc3): Linear(in_features=64, out_features=16, bias=True)\n",
      ")\n"
     ]
    }
   ],
   "source": [
    "model = MyNet()\n",
    "print(model)"
   ]
  },
  {
   "cell_type": "code",
   "execution_count": 28,
   "metadata": {},
   "outputs": [
    {
     "name": "stderr",
     "output_type": "stream",
     "text": [
      "/home/sumeet/.local/lib/python3.8/site-packages/torch/autograd/__init__.py:130: UserWarning: CUDA initialization: Found no NVIDIA driver on your system. Please check that you have an NVIDIA GPU and installed a driver from http://www.nvidia.com/Download/index.aspx (Triggered internally at  /pytorch/c10/cuda/CUDAFunctions.cpp:100.)\n",
      "  Variable._execution_engine.run_backward(\n"
     ]
    },
    {
     "name": "stdout",
     "output_type": "stream",
     "text": [
      "Train Accuracy | Epoch 004: | Loss: 2.23300 | Acc: 27.365\n",
      "Valid Accuracy | Epoch 004: | Loss: 2.09872 | Acc: 28.715\n",
      "\n",
      "Train Accuracy | Epoch 008: | Loss: 1.51804 | Acc: 59.623\n",
      "Valid Accuracy | Epoch 008: | Loss: 1.53723 | Acc: 55.650\n",
      "\n",
      "Train Accuracy | Epoch 012: | Loss: 0.70989 | Acc: 82.121\n",
      "Valid Accuracy | Epoch 012: | Loss: 1.13083 | Acc: 69.737\n",
      "\n",
      "Train Accuracy | Epoch 016: | Loss: 0.37160 | Acc: 90.883\n",
      "Valid Accuracy | Epoch 016: | Loss: 1.07346 | Acc: 71.981\n",
      "\n",
      "Train Accuracy | Epoch 020: | Loss: 0.21776 | Acc: 94.710\n",
      "Valid Accuracy | Epoch 020: | Loss: 1.15526 | Acc: 70.820\n",
      "\n",
      "Train Accuracy | Epoch 024: | Loss: 0.13518 | Acc: 97.198\n",
      "Valid Accuracy | Epoch 024: | Loss: 1.12685 | Acc: 72.523\n",
      "\n",
      "Train Accuracy | Epoch 028: | Loss: 0.08947 | Acc: 98.387\n",
      "Valid Accuracy | Epoch 028: | Loss: 1.18228 | Acc: 72.833\n",
      "\n",
      "Train Accuracy | Epoch 032: | Loss: 0.06748 | Acc: 98.756\n",
      "Valid Accuracy | Epoch 032: | Loss: 1.26300 | Acc: 73.220\n",
      "\n",
      "Train Accuracy | Epoch 036: | Loss: 0.05233 | Acc: 99.030\n",
      "Valid Accuracy | Epoch 036: | Loss: 1.23020 | Acc: 74.149\n",
      "\n",
      "Train Accuracy | Epoch 040: | Loss: 0.04364 | Acc: 99.207\n",
      "Valid Accuracy | Epoch 040: | Loss: 1.21472 | Acc: 74.923\n",
      "\n"
     ]
    }
   ],
   "source": [
    "EPOCHS = 40\n",
    "LEARNING_RATE = 0.01\n",
    "optimizer = optim.SGD(model.parameters(), lr=LEARNING_RATE)\n",
    "criterion = nn.NLLLoss()\n",
    "\n",
    "train_losses = []\n",
    "train_accuracies = []\n",
    "test_losses = []\n",
    "\n",
    "test_accuracies = []\n",
    "\n",
    "for e in range(1, EPOCHS+1):\n",
    "\n",
    "    model.train()\n",
    "    \n",
    "    epoch_loss = 0\n",
    "    correct = 0\n",
    "    total = 0\n",
    "    \n",
    "    for X_batch, y_batch in train_loader:\n",
    "        \n",
    "        #X_batch, y_batch = X_batch.to(device), y_batch.to(device)\n",
    "        optimizer.zero_grad()\n",
    "\n",
    "        y_pred = model(X_batch)\n",
    "        #print(y_pred.size())\n",
    "        loss = criterion(y_pred, torch.max(y_batch,1)[1])\n",
    "        loss.backward()\n",
    "        optimizer.step()\n",
    "        \n",
    "        \n",
    "        predicted = torch.max(y_pred.data, 1)[1]     \n",
    "        y_temp = torch.max(y_batch.data,1)[1]\n",
    "        correct += (predicted == y_temp).sum()\n",
    "        total += float(len(y_batch))\n",
    "        \n",
    "        \n",
    "        epoch_loss += loss.item()\n",
    "        \n",
    "    train_accuracies.append(correct*100/total)\n",
    "    train_losses.append(epoch_loss/len(train_loader))\n",
    "    if (e+1)%4==0:\n",
    "        print(f'Train Accuracy | Epoch {e+1:03}: | Loss: {epoch_loss/len(train_loader):.5f} | Acc: {correct*100/total:.3f}')\n",
    "\n",
    "    model.eval()\n",
    "    with torch.no_grad():\n",
    "        test_loss = 0\n",
    "        correct_val = 0\n",
    "        total_val = 0\n",
    "        for X_val, y_val in test_loader:\n",
    "            #X_val, y_val = X_val.to(device), y_val.to(device)\n",
    "\n",
    "            y_predval = model(X_val)\n",
    "            loss = criterion(y_predval,torch.max(y_val,1)[1])\n",
    "            \n",
    "            predicted = torch.max(y_predval.data, 1)[1] \n",
    "            y_temp = torch.max(y_val.data,1)[1]\n",
    "            \n",
    "            correct_val += (predicted == y_temp).sum()\n",
    "            total_val += float(len(y_val))\n",
    "            \n",
    "            \n",
    "            test_loss += loss.item()\n",
    "\n",
    "    test_accuracies.append(float(correct_val*100/total_val))\n",
    "    test_losses.append(test_loss/len(test_loader))\n",
    "    if (e+1)%4==0:\n",
    "        print(f'Valid Accuracy | Epoch {e+1:03}: | Loss: {test_loss/len(test_loader):.5f} | Acc: {correct_val*100/total_val:.3f}\\n')\n"
   ]
  },
  {
   "cell_type": "code",
   "execution_count": 31,
   "metadata": {},
   "outputs": [
    {
     "data": {
      "image/png": "[encoded data removed]",
      "text/plain": [
       "<Figure size 1008x432 with 2 Axes>"
      ]
     },
     "metadata": {
      "needs_background": "light"
     },
     "output_type": "display_data"
    }
   ],
   "source": [
    "import matplotlib.pyplot as plt\n",
    "\n",
    "fig,ax = plt.subplots(1,2,figsize=(14,6))\n",
    "\n",
    "ax[0].plot(train_losses,label='train')\n",
    "ax[0].plot(test_losses,label='val')\n",
    "ax[0].set_title(\"Loss after each epoch\")\n",
    "ax[0].set_xlabel(\"Epochs\")\n",
    "ax[0].set_ylabel(\"Loss\")\n",
    "ax[0].legend()\n",
    "\n",
    "ax[1].plot(train_accuracies,label='train')\n",
    "ax[1].plot(test_accuracies,label='test')\n",
    "ax[1].set_title(\"Accuracy after each epoch\")\n",
    "ax[1].set_xlabel(\"Epochs\")\n",
    "ax[1].set_ylabel(\"Accuracy\")\n",
    "ax[1].legend()\n",
    "\n",
    "fig.suptitle(\"Metrics of the model\")\n",
    "plt.show()"
   ]
  }
 ],
 "metadata": {
  "accelerator": "GPU",
  "colab": {
   "name": "dl.ipynb",
   "provenance": []
  },
  "kernelspec": {
   "display_name": "Python 3",
   "language": "python",
   "name": "python3"
  },
  "language_info": {
   "codemirror_mode": {
    "name": "ipython",
    "version": 3
   },
   "file_extension": ".py",
   "mimetype": "text/x-python",
   "name": "python",
   "nbconvert_exporter": "python",
   "pygments_lexer": "ipython3",
   "version": "3.8.6"
  }
 },
 "nbformat": 4,
 "nbformat_minor": 4
}
